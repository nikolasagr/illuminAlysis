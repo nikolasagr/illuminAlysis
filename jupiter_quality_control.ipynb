{
 "cells": [
  {
   "cell_type": "markdown",
   "metadata": {},
   "source": [
    "# Quality Control Function architecture:\n",
    "\n",
    "Now that we have preprocessed the data, we need to perform some quality-control steps on our pre-processed data to make sure that, for example, the gender of the sample corresponds to that of the questionnaire, iden- tify if there are repeated samples, etc."
   ]
  },
  {
   "cell_type": "markdown",
   "metadata": {},
   "source": [
    "## Remove Unreliable Samples function\n",
    "  - Remove rows with more than 10% missing variables\n",
    "  - Perform Outlier Detection\n",
    "  - Remove corresponding samples in other list entries\n",
    "    \n",
    "    Potential outliers can be identified among the BC control beads using several outlier detection methods. In the       case below, a simple outlier detection method is used. The approach was to eliminate the outliers by removing         points that were above (Mean + 2*SD) and any points below (Mean - 2*SD)\n"
   ]
  },
  {
   "cell_type": "code",
   "execution_count": null,
   "metadata": {},
   "outputs": [],
   "source": [
    "def remove_unreliable_samples(samples,threshold):\n",
    "        \n",
    "    # Apply the threshold for the missing data per row\n",
    "    samples=samples.loc[samples['missing']<threshold]\n",
    "    cpgs=cpgs.loc[samples.index.intersection(cpgs.index)]\n",
    "    \n",
    "    # Apply the outlier detection based on the values of  bc1.grn,bc1.red,bc2\n",
    "    tech_vars=samples[['bc1.grn','bc1.red','bc2']]\n",
    "    #samples.set_index('sample.id',inplace=True)\n",
    "    \n",
    "    \n",
    "    mean=[]\n",
    "    sd=[]\n",
    "    m_1=[]\n",
    "    m_2=[]\n",
    "    \n",
    "    # set the outlier threshold to be between mean + 2sd and mean -2sd\n",
    "    for m in range(0,tech_vars.shape[1]):\n",
    "        \n",
    "        mean_col= tech_vars.iloc[:,m].mean()\n",
    "        mean.append(mean_col)\n",
    "    \n",
    "        sd_col= tech_vars.iloc[:,m].std()\n",
    "        sd.append(sd_col)\n",
    "        \n",
    "        m_1.append(mean[m] - (2 * sd[m]))\n",
    "        m_2.append(mean[m] + (2 * sd[m]))    \n",
    "        \n",
    "          \n",
    "    for i in range(0,len(mean)):\n",
    "    \n",
    "        tech_vars = tech_vars[tech_vars.iloc[:,i]>m_1[i]]\n",
    "        tech_vars = tech_vars[tech_vars.iloc[:,i]<m_2[i]]\n",
    "        \n",
    "        # Print the indices common to the output of the missing data and the ouput of the tech_vars\n",
    "        common = samples.index.intersection(tech_vars.index)\n",
    "\n",
    "        samples=samples.loc[common]\n",
    "    \n",
    "    return samples"
   ]
  },
  {
   "cell_type": "markdown",
   "metadata": {},
   "source": [
    "## Infer sex function\n",
    "   - Create a column which displays sex info\n",
    "   - Classify sex using a hard boundary threshold\n",
    "    \n",
    "The individual sex can be computed from median methylation levels on the chromosome X and the proportion of          missing data on chromosome Y. These have been computed previously and stored in the samples object. The user is allowed to chose the hard boundaries producing the two classes. A plot of the median X chromosome values vs the missing Y chromosome values are plotted to aid the user to decide ont he hard boundaries. It is expected than on the bottom left corner the cluster is representative of males and the top right cluster to females."
   ]
  },
  {
   "cell_type": "code",
   "execution_count": null,
   "metadata": {},
   "outputs": [],
   "source": [
    "# Visualisation of the median.chrX and missing.chrY plot\n",
    "plt.scatter(x=samples['median.chrX'],y=samples['missing.chrY'])\n",
    "\n",
    "def infer_sex(samples,threshold_chrX=0.37,threshold_chrY=0.39):\n",
    "    \n",
    "    # From bibliography set hard boundaries to descriminate between males and females\n",
    "                      \n",
    "    samples.loc[(samples['median.chrX'] < threshold_chrX) & (samples['missing.chrY'] < threshold_chrY), 'sex'] = 'M'\n",
    "    samples.loc[(samples['median.chrX'] > threshold_chrX) & (samples['missing.chrY'] > threshold_chrY), 'sex'] = 'F'\n",
    "    samples.loc[(samples['median.chrX'] < threshold_chrX) & (samples['missing.chrY'] > threshold_chrY), 'sex'] = np.nan\n",
    "    samples.loc[(samples['median.chrX'] > threshold_chrX) & (samples['missing.chrY'] < threshold_chrY), 'sex'] = np.nan    \n",
    "    \n",
    "    #Count the number of males and females\n",
    "    num_males=samples.loc[samples.sex == 'M', 'sex'].count()\n",
    "    num_females=samples.loc[samples.sex == 'F', 'sex'].count()\n",
    "    print(\"Number of Males:\",num_males)\n",
    "    print(\"Number of Females:\",num_females)\n",
    "    \n",
    "    samples.set_index(\"sample.id\",inplace=True)\n",
    "    \n",
    "    return samples"
   ]
  },
  {
   "cell_type": "markdown",
   "metadata": {},
   "source": [
    "## Alternative sex infer function\n",
    "\n",
    "A K-means algorithm can also be used to perform sex inferal by classifying the samples in the plot belonging to two different classes and then assigning each class to either female or male depending on where they are situated on the median X vs missing Y plot."
   ]
  },
  {
   "cell_type": "code",
   "execution_count": null,
   "metadata": {},
   "outputs": [],
   "source": [
    "def k_mean_sex_infer(samples):\n",
    "\n",
    "    from sklearn import datasets\n",
    "    from sklearn.cluster import KMeans\n",
    "    import sklearn.metrics as sm\n",
    "    \n",
    "    x=samples[['median.chrX','missing.chrY']]\n",
    "    \n",
    "    # K Means Cluster\n",
    "    model = KMeans(n_clusters=2)\n",
    "    model.fit(x)\n",
    "    \n",
    "    # View the results\n",
    "    # Set the size of the plot\n",
    "    plt.figure(figsize=(14,7))\n",
    "     \n",
    "    # Create a colormap\n",
    "    colormap = np.array(['red', 'lime'])\n",
    "    \n",
    "    # Plot the Original Classifications\n",
    "    plt.subplot(1, 2, 1)\n",
    "    plt.scatter(x['median.chrX'], x['missing.chrY'], s=40)\n",
    "    plt.title('Real Classification')\n",
    "     \n",
    "    # Plot the Models Classifications\n",
    "    plt.subplot(1, 2, 2)\n",
    "    plt.scatter(x['median.chrX'], x['missing.chrY'], c=colormap[model.labels_], s=40)\n",
    "    plt.title('K Mean Classification')\n",
    "\n",
    "    \n",
    "    samples['sex_Kmeans']=model.labels_\n",
    "    \n",
    "    # 1 is coded as female and 0 as male\n",
    "    samples.loc[(samples['sex_Kmeans']==1),'sex_Kmeans']='F'\n",
    "    samples.loc[(samples['sex_Kmeans']==0),'sex_Kmeans']='M'"
   ]
  },
  {
   "cell_type": "markdown",
   "metadata": {},
   "source": [
    "## Visualisation of snps intensities\n",
    "\n",
    "The allele at a SNP locus can be inferred from SNP intensities measured on the BeadChip.\n",
    "The plot shows the snps intensities of different samples"
   ]
  },
  {
   "cell_type": "code",
   "execution_count": 4,
   "metadata": {},
   "outputs": [],
   "source": [
    "def snps_distribution(snps):\n",
    "    \n",
    "    for i in range(0,snps.shape[0]):\n",
    "        a=snps.iloc[i]\n",
    "        b=a.index\n",
    "        snp_vals=a.values\n",
    "\n",
    "\n",
    "        snp_vals=pd.DataFrame(snp_vals)\n",
    "        snp_vals['snps_name']=b\n",
    "\n",
    "        snp_vals.drop(snp_vals.index[0],inplace=True)\n",
    "        snp_vals.columns=['val','snps_name']\n",
    "        plt.scatter(snp_vals['snps_name'],snp_vals['val'])"
   ]
  },
  {
   "cell_type": "markdown",
   "metadata": {},
   "source": [
    "## Replicates Identification function\n",
    "  - Classify snps using hard borders (user defined)\n",
    "  - Visualise a heatmap to show the distance matrix of the snps\n",
    "  - Output replicates\n",
    "    \n",
    "The function relied on the comparison of samples' snps intensities and sex information to deduce if they appear       too similar and can thus be classified as replicates"
   ]
  },
  {
   "cell_type": "code",
   "execution_count": 5,
   "metadata": {},
   "outputs": [],
   "source": [
    "def identify_replicates(snps,threshold,samples):\n",
    "    \n",
    "    snps.set_index('Unnamed: 0',inplace=True)\n",
    "    snps.index.name='sample_id'\n",
    "    \n",
    "    snps[snps<=0.2]=0\n",
    "    snps[snps>=0.8]=2\n",
    "    snps[(snps>0.2 ) & (snps<0.8)]=1\n",
    "    \n",
    "    dist_matrix = np.empty((snps.shape[0], snps.shape[0]))\n",
    "    dist_matrix[:,:] = np.nan\n",
    "\n",
    "    for i in range(0,snps.shape[0]):\n",
    "        for j in range(i+1,snps.shape[0]):\n",
    "            dist_matrix[j, i] = abs(snps.iloc[i,:]-snps.iloc[j,:]).sum()\n",
    "            dist_m=pd.DataFrame(dist_matrix)\n",
    "            dist_m.index=snps.index\n",
    "            dist_m.columns=snps.index\n",
    "            \n",
    "    ax = sns.heatmap(dist_m, annot=True)\n",
    "    ax.set_title('Distance Matrix for SNPSs')\n",
    "    \n",
    "    dist_m=dist_m < threshold\n",
    "    \n",
    "    rows=[]\n",
    "    columns=[]\n",
    "    \n",
    "    for i in range(0,dist_m.shape[0]):\n",
    "        for j in range(0,dist_m.shape[0]):\n",
    "            \n",
    "            if dist_m.iloc[i,j] == True:\n",
    "                \n",
    "                rows.append(dist_m.index[i])\n",
    "                columns.append(dist_m.index[j])\n",
    "                \n",
    "    \n",
    "    sex_ident=samples['sex']\n",
    "    \n",
    "    for n in range (0,len(rows)):\n",
    "            \n",
    "        if sex_ident[rows[n]] == sex_ident[columns[n]]:\n",
    "                \n",
    "            print('Replicate detected:',rows[n],columns[n]) "
   ]
  },
  {
   "cell_type": "code",
   "execution_count": null,
   "metadata": {},
   "outputs": [],
   "source": []
  }
 ],
 "metadata": {
  "kernelspec": {
   "display_name": "Python 3",
   "language": "python",
   "name": "python3"
  },
  "language_info": {
   "codemirror_mode": {
    "name": "ipython",
    "version": 3
   },
   "file_extension": ".py",
   "mimetype": "text/x-python",
   "name": "python",
   "nbconvert_exporter": "python",
   "pygments_lexer": "ipython3",
   "version": "3.6.8"
  }
 },
 "nbformat": 4,
 "nbformat_minor": 2
}
